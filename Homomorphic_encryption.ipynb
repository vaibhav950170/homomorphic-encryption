{
  "nbformat": 4,
  "nbformat_minor": 0,
  "metadata": {
    "colab": {
      "name": "Homomorphic encryption",
      "provenance": [],
      "collapsed_sections": []
    },
    "kernelspec": {
      "name": "python3",
      "display_name": "Python 3"
    },
    "language_info": {
      "name": "python"
    }
  },
  "cells": [
    {
      "cell_type": "markdown",
      "source": [
        "## Implementing partially homomorphic encryption using library paillier"
      ],
      "metadata": {
        "id": "M70L6zosGuYh"
      }
    },
    {
      "cell_type": "code",
      "source": [
        "!pip install phe"
      ],
      "metadata": {
        "colab": {
          "base_uri": "https://localhost:8080/"
        },
        "id": "lUR6QnFFA1Pm",
        "outputId": "02c0fe3d-9afb-4aa5-a2f6-5999029c173d"
      },
      "execution_count": null,
      "outputs": [
        {
          "output_type": "stream",
          "name": "stdout",
          "text": [
            "Looking in indexes: https://pypi.org/simple, https://us-python.pkg.dev/colab-wheels/public/simple/\n",
            "Collecting phe\n",
            "  Downloading phe-1.5.0-py2.py3-none-any.whl (53 kB)\n",
            "\u001b[K     |████████████████████████████████| 53 kB 1.7 MB/s \n",
            "\u001b[?25hInstalling collected packages: phe\n",
            "Successfully installed phe-1.5.0\n"
          ]
        }
      ]
    },
    {
      "cell_type": "code",
      "execution_count": null,
      "metadata": {
        "id": "c7T1w9HaId8H",
        "colab": {
          "base_uri": "https://localhost:8080/"
        },
        "outputId": "dc79e863-9e5c-4e50-d9c5-f1fb2ffa7088"
      },
      "outputs": [
        {
          "output_type": "stream",
          "name": "stdout",
          "text": [
            "add two encrypted numbers together: 30\n",
            "add an encrypted number to a number: 15\n",
            "multiply an encrypted number to a number: 100\n"
          ]
        }
      ],
      "source": [
        "from phe import paillier\n",
        "\n",
        "num1 = 10\n",
        "num2 = 20\n",
        "\n",
        "pub_key, priv_key = paillier.generate_paillier_keypair()\n",
        "cipher_num1, cipher_num2 = pub_key.encrypt(num1), pub_key.encrypt(num2)\n",
        "# add two encrypted numbers together\n",
        "result = cipher_num1 + cipher_num2\n",
        "result = priv_key.decrypt(result)\n",
        "print(\"add two encrypted numbers together:\",result)\n",
        "\n",
        "# add an encrypted number to a plaintext number\n",
        "result = cipher_num1 + 5\n",
        "result = priv_key.decrypt(result)\n",
        "print(\"add an encrypted number to a number:\",result)\n",
        "\n",
        "# multiply an encrypted number by a plaintext number\n",
        "result = cipher_num1 * 10\n",
        "result = priv_key.decrypt(result)\n",
        "print(\"multiply an encrypted number to a number:\",result)"
      ]
    }
  ]
}